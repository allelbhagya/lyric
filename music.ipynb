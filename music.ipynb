{
 "cells": [
  {
   "cell_type": "code",
   "execution_count": 12,
   "metadata": {},
   "outputs": [],
   "source": [
    "import os\n",
    "import pandas as pd\n",
    "import random"
   ]
  },
  {
   "cell_type": "code",
   "execution_count": 13,
   "metadata": {},
   "outputs": [],
   "source": [
    "def load_lyrics(csv_file):\n",
    "    df = pd.read_csv(csv_file)\n",
    "    lyrics_data = df[['Title', 'Lyric']].dropna()\n",
    "    return lyrics_data"
   ]
  },
  {
   "cell_type": "code",
   "execution_count": 14,
   "metadata": {},
   "outputs": [],
   "source": [
    "def build_markov_chain(lyrics_data):\n",
    "    markov_chain = {}\n",
    "\n",
    "    for _, row in lyrics_data.iterrows():\n",
    "        lyrics = row['Lyric']\n",
    "        words = lyrics.split()\n",
    "        \n",
    "        for i in range(len(words) - 1):\n",
    "            current_word = words[i]\n",
    "            next_word = words[i + 1]\n",
    "\n",
    "            if current_word not in markov_chain:\n",
    "                markov_chain[current_word] = []\n",
    "\n",
    "            markov_chain[current_word].append(next_word)\n",
    "\n",
    "    return markov_chain"
   ]
  },
  {
   "cell_type": "code",
   "execution_count": 15,
   "metadata": {},
   "outputs": [],
   "source": [
    "def generate_lyrics(markov_chain, num_lines=5):\n",
    "    generated_lyrics = []\n",
    "\n",
    "    for _ in range(num_lines):\n",
    "        current_word = random.choice(list(markov_chain.keys()))\n",
    "        line = [current_word]\n",
    "\n",
    "        for _ in range(10): \n",
    "            next_word = random.choice(markov_chain.get(current_word, ['']))\n",
    "            if next_word:\n",
    "                line.append(next_word)\n",
    "                current_word = next_word\n",
    "            else:\n",
    "                break\n",
    "\n",
    "        generated_lyrics.append(' '.join(line))\n",
    "\n",
    "    return generated_lyrics"
   ]
  },
  {
   "cell_type": "code",
   "execution_count": 16,
   "metadata": {},
   "outputs": [],
   "source": [
    "selected_csv = '../lyric/music/db/ArianaGrande.csv'  \n",
    "lyrics_data = load_lyrics(selected_csv)\n",
    "markov_chain = build_markov_chain(lyrics_data)\n",
    "generated_lyrics = generate_lyrics(markov_chain)"
   ]
  },
  {
   "cell_type": "code",
   "execution_count": 17,
   "metadata": {},
   "outputs": [
    {
     "name": "stdout",
     "output_type": "stream",
     "text": [
      "minute since december 7 09 boston massachusetts june 09 paris going\n",
      "entre más fino aunque a star space ill never let me\n",
      "monét monopoly may have yourself in love the presents underneath the\n",
      "fans and i'm alone i can't really know how she got\n",
      "missing snippet from nothing else we'd be the phone numbers if\n"
     ]
    }
   ],
   "source": [
    "for line in generated_lyrics:\n",
    "    print(line)"
   ]
  }
 ],
 "metadata": {
  "kernelspec": {
   "display_name": "Python 3",
   "language": "python",
   "name": "python3"
  },
  "language_info": {
   "codemirror_mode": {
    "name": "ipython",
    "version": 3
   },
   "file_extension": ".py",
   "mimetype": "text/x-python",
   "name": "python",
   "nbconvert_exporter": "python",
   "pygments_lexer": "ipython3",
   "version": "3.10.11"
  }
 },
 "nbformat": 4,
 "nbformat_minor": 2
}
